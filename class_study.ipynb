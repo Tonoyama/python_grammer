{
 "metadata": {
  "language_info": {
   "codemirror_mode": {
    "name": "ipython",
    "version": 3
   },
   "file_extension": ".py",
   "mimetype": "text/x-python",
   "name": "python",
   "nbconvert_exporter": "python",
   "pygments_lexer": "ipython3",
   "version": "3.7.4-final"
  },
  "orig_nbformat": 2,
  "kernelspec": {
   "name": "python3",
   "display_name": "Python 3",
   "language": "python"
  }
 },
 "nbformat": 4,
 "nbformat_minor": 2,
 "cells": [
  {
   "source": [
    "# PEP8\n",
    "`Python`の文法ルール\n",
    "\n"
   ],
   "cell_type": "markdown",
   "metadata": {}
  },
  {
   "source": [
    "## クラスとコンストラクタ"
   ],
   "cell_type": "markdown",
   "metadata": {}
  },
  {
   "source": [
    "オブジェクトとは、何らかの処理を定義したもの\n",
    "\n",
    "メソッドとは、値を定義するもの\n",
    "\n",
    "`__init__`は、初期化する**メソッド**\n",
    "\n",
    "↑「マジックメソッド」と言う\n",
    "\n",
    "```\n",
    "def __init__(self, A, B):\n",
    "```\n",
    "\n",
    "↑初期化して、メソッドを定義する「**コンストラクタ**」\n",
    "\n",
    "コンストラクタは、メソッドを定義する（**メンバ**）\n",
    "\n",
    "クラスを定義したものを**インスタンス**という\n",
    "\n",
    "`self`は**インスタンス変数**"
   ],
   "cell_type": "markdown",
   "metadata": {}
  },
  {
   "cell_type": "code",
   "execution_count": 2,
   "metadata": {},
   "outputs": [],
   "source": [
    "class calcClass():\n",
    "    def __init__(self, A, B):\n",
    "        self.A = 100\n",
    "        self.B = 200\n",
    "\n",
    "\n",
    "result = calcClass(3, 3)"
   ]
  },
  {
   "cell_type": "code",
   "execution_count": 3,
   "metadata": {},
   "outputs": [
    {
     "output_type": "execute_result",
     "data": {
      "text/plain": [
       "100"
      ]
     },
     "metadata": {},
     "execution_count": 3
    }
   ],
   "source": [
    "result.A"
   ]
  },
  {
   "cell_type": "code",
   "execution_count": 7,
   "metadata": {},
   "outputs": [
    {
     "output_type": "execute_result",
     "data": {
      "text/plain": [
       "200"
      ]
     },
     "metadata": {},
     "execution_count": 7
    }
   ],
   "source": [
    "result.B"
   ]
  },
  {
   "source": [
    "## 多様性"
   ],
   "cell_type": "markdown",
   "metadata": {}
  },
  {
   "source": [
    "## ポリモーフィズム\n",
    "\n",
    "一つのインスタンスで複数のメソッドを使えるようにする\n",
    "\n",
    "\n",
    "クラスメソッド\n",
    "\n",
    "```\n",
    "def speak(self):\n",
    "    print(\"speak\")\n",
    "```\n",
    "\n",
    "`x.speak()`はインスタンスメソッド"
   ],
   "cell_type": "markdown",
   "metadata": {}
  },
  {
   "cell_type": "code",
   "execution_count": 5,
   "metadata": {},
   "outputs": [
    {
     "output_type": "stream",
     "name": "stdout",
     "text": [
      "speak\nfly\n"
     ]
    }
   ],
   "source": [
    "class Person:\n",
    "    def speak(self):\n",
    "        print(\"speak\")\n",
    "\n",
    "class Bird:\n",
    "    def fly(self):\n",
    "        print(\"fly\")\n",
    "\n",
    "\n",
    "class BirdMan(Person, Bird):\n",
    "    pass\n",
    "\n",
    "x = BirdMan()\n",
    "\n",
    "x.speak()\n",
    "x.fly()\n",
    "\n",
    "# speak\n",
    "# fly"
   ]
  },
  {
   "source": [
    "## クラスの継承"
   ],
   "cell_type": "markdown",
   "metadata": {}
  },
  {
   "cell_type": "code",
   "execution_count": 15,
   "metadata": {},
   "outputs": [
    {
     "output_type": "stream",
     "name": "stdout",
     "text": [
      "200\n402\n"
     ]
    }
   ],
   "source": [
    "class calcClass():\n",
    "    def __init__(self, A, B):\n",
    "        self.A = A * 100\n",
    "        self.B = B * 200\n",
    "\n",
    "    def nyuryoku(self):\n",
    "        self.A\n",
    "        self.B\n",
    "\n",
    "class twoCalcClass(calcClass):\n",
    "    def output(self):\n",
    "        print(self.A * 2)\n",
    "        print(self.B + 2)\n",
    "\n",
    "\n",
    "result = twoCalcClass(1, 2)\n",
    "result.output()"
   ]
  },
  {
   "source": [
    "## カプセル化\n",
    "\n",
    "メンバ達をまとまて「属性(attribute)」\n",
    "\n",
    "`Python`には、見られないようにする仕様は実際はない\n",
    "\n",
    "`__変数名`でメソッドが見られないようにできる"
   ],
   "cell_type": "markdown",
   "metadata": {}
  },
  {
   "cell_type": "code",
   "execution_count": 23,
   "metadata": {},
   "outputs": [
    {
     "output_type": "execute_result",
     "data": {
      "text/plain": [
       "'world'"
      ]
     },
     "metadata": {},
     "execution_count": 23
    }
   ],
   "source": [
    "class Calc:\n",
    "    calc_1 = \"hello\"\n",
    "    __calc_2 = \"world\"\n",
    "\n",
    "greet = Calc()\n",
    "greet.calc_1\n",
    "\n",
    "greet._Calc__calc_2"
   ]
  }
 ]
}